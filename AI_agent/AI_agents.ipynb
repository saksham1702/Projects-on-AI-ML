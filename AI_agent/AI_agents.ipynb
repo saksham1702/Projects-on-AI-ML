{
 "cells": [
  {
   "metadata": {
    "collapsed": true,
    "ExecuteTime": {
     "end_time": "2025-02-01T08:14:12.535924Z",
     "start_time": "2025-02-01T08:14:12.532345Z"
    }
   },
   "cell_type": "code",
   "source": [
    "import numpy as np\n",
    "from langchain_community.tools import WikipediaQueryRun\n",
    "from langchain_community.utilities import WikipediaAPIWrapper"
   ],
   "id": "initial_id",
   "outputs": [],
   "execution_count": 244
  },
  {
   "metadata": {
    "ExecuteTime": {
     "end_time": "2025-02-01T08:14:12.795106Z",
     "start_time": "2025-02-01T08:14:12.792035Z"
    }
   },
   "cell_type": "code",
   "source": [
    "#wikipedia wrapper will only fetch 1st top result and only 200 characters\n",
    "api_wrapper = WikipediaAPIWrapper(top_k_results=1,doc_content_chars_max=200)\n",
    "wiki = WikipediaQueryRun(api_wrapper=api_wrapper)\n"
   ],
   "id": "32bfeeaf5fe0a1c5",
   "outputs": [],
   "execution_count": 245
  },
  {
   "metadata": {
    "ExecuteTime": {
     "end_time": "2025-02-01T08:14:13.171659Z",
     "start_time": "2025-02-01T08:14:13.166990Z"
    }
   },
   "cell_type": "code",
   "source": [
    "import os\n",
    "from dotenv import load_dotenv\n",
    "load_dotenv()"
   ],
   "id": "df75103474a6563d",
   "outputs": [
    {
     "data": {
      "text/plain": [
       "True"
      ]
     },
     "execution_count": 246,
     "metadata": {},
     "output_type": "execute_result"
    }
   ],
   "execution_count": 246
  },
  {
   "metadata": {
    "ExecuteTime": {
     "end_time": "2025-02-01T08:14:27.262321Z",
     "start_time": "2025-02-01T08:14:27.255129Z"
    }
   },
   "cell_type": "code",
   "source": [
    "LANGCHAIN_API_KEY= 'xxxxx'\n",
    "os.environ['LANGCHAIN_API_KEY'] = LANGCHAIN_API_KEY\n",
    "os.environ[\"LANGCHAIN_TRACING_V2\"]=\"true\""
   ],
   "id": "ea08a8b890c44e19",
   "outputs": [],
   "execution_count": 251
  },
  {
   "metadata": {
    "ExecuteTime": {
     "end_time": "2025-02-01T08:14:39.036610Z",
     "start_time": "2025-02-01T08:14:39.030878Z"
    }
   },
   "cell_type": "code",
   "source": [
    "from langchain_community.document_loaders import WebBaseLoader\n",
    "from langchain_community.vectorstores import FAISS\n",
    "from langchain_text_splitters import RecursiveCharacterTextSplitter\n",
    "from langchain_mistralai import MistralAIEmbeddings"
   ],
   "id": "9c03c2e8140d480c",
   "outputs": [],
   "execution_count": 252
  },
  {
   "metadata": {
    "ExecuteTime": {
     "end_time": "2025-02-01T08:19:08.776120Z",
     "start_time": "2025-02-01T08:19:08.721609Z"
    }
   },
   "cell_type": "code",
   "source": [
    "import os\n",
    "api_key = \"xxxxxx\"\n",
    "Model = ChatMistralAI(api_key=api_key, model=model,temperature = 0.7)"
   ],
   "id": "6302ed39af11c371",
   "outputs": [],
   "execution_count": 278
  },
  {
   "metadata": {
    "ExecuteTime": {
     "end_time": "2025-02-01T08:19:13.570624Z",
     "start_time": "2025-02-01T08:19:09.058615Z"
    }
   },
   "cell_type": "code",
   "source": [
    "#we are using mistralAi for embedding for our documents and MistralAI for our\n",
    "embeddings = MistralAIEmbeddings(model=\"mistral-embed\", mistral_api_key=api_key)\n",
    "loader = WebBaseLoader(\"https://education.nationalgeographic.org/resource/mining/\")\n",
    "docs = loader.load()\n",
    "\n",
    "documents = RecursiveCharacterTextSplitter(chunk_size=1000, chunk_overlap=200)\n",
    "documents = documents.split_documents(docs)"
   ],
   "id": "25c12d853f0320a2",
   "outputs": [
    {
     "name": "stderr",
     "output_type": "stream",
     "text": [
      "/Users/pookie/PycharmProjects/AI_agent/.venv/lib/python3.13/site-packages/langchain_mistralai/embeddings.py:181: UserWarning: Could not download mistral tokenizer from Huggingface for calculating batch sizes. Set a Huggingface token via the HF_TOKEN environment variable to download the real tokenizer. Falling back to a dummy tokenizer that uses `len()`.\n",
      "  warnings.warn(\n"
     ]
    }
   ],
   "execution_count": 279
  },
  {
   "metadata": {
    "ExecuteTime": {
     "end_time": "2025-02-01T08:19:17.919655Z",
     "start_time": "2025-02-01T08:19:14.232375Z"
    }
   },
   "cell_type": "code",
   "source": "vectordb = FAISS.from_documents(documents, embedding = embeddings)",
   "id": "11d17ace3eb16a3",
   "outputs": [],
   "execution_count": 280
  },
  {
   "metadata": {
    "ExecuteTime": {
     "end_time": "2025-02-01T08:15:26.329507Z",
     "start_time": "2025-02-01T08:15:26.324842Z"
    }
   },
   "cell_type": "code",
   "source": [
    "web_retriever = vectordb.as_retriever()\n",
    "len(documents) #No of chunks made"
   ],
   "id": "97218d5630d78c13",
   "outputs": [
    {
     "data": {
      "text/plain": [
       "6"
      ]
     },
     "execution_count": 258,
     "metadata": {},
     "output_type": "execute_result"
    }
   ],
   "execution_count": 258
  },
  {
   "metadata": {
    "ExecuteTime": {
     "end_time": "2025-02-01T08:15:29.154760Z",
     "start_time": "2025-02-01T08:15:29.151036Z"
    }
   },
   "cell_type": "code",
   "source": [
    "from langchain.tools.retriever import create_retriever_tool\n",
    "#Making a retriever tool which can be used to retrieve relevant text chunks based on the query using vector similarity search\n",
    "web_retriever_tool=create_retriever_tool(web_retriever,\"Mining_Article\",\"For any queries regarding Mining use this article !\")"
   ],
   "id": "b8b0428bd379185e",
   "outputs": [],
   "execution_count": 259
  },
  {
   "metadata": {
    "ExecuteTime": {
     "end_time": "2025-02-01T08:15:31.956289Z",
     "start_time": "2025-02-01T08:15:31.952299Z"
    }
   },
   "cell_type": "code",
   "source": "web_retriever_tool.name",
   "id": "edf29e87bbedce6c",
   "outputs": [
    {
     "data": {
      "text/plain": [
       "'Mining_Article'"
      ]
     },
     "execution_count": 260,
     "metadata": {},
     "output_type": "execute_result"
    }
   ],
   "execution_count": 260
  },
  {
   "metadata": {
    "ExecuteTime": {
     "end_time": "2025-02-01T08:15:37.701596Z",
     "start_time": "2025-02-01T08:15:37.692215Z"
    }
   },
   "cell_type": "code",
   "source": [
    "import numpy as np\n",
    "#having a look at the first_embedding of dim 1024 stroed in faiss vectordabase\n",
    "first_embedding = np.array(vectordb.index.reconstruct(0))\n",
    "\n",
    "print(\"Embedding for the first document chunk:\")\n",
    "print(first_embedding)\n",
    "#storing the embeddings locally\n",
    "vectordb.save_local(\"faiss_index\")  # Saves embeddings locally\n"
   ],
   "id": "71e4cf9075cec4e0",
   "outputs": [
    {
     "name": "stdout",
     "output_type": "stream",
     "text": [
      "Embedding for the first document chunk:\n",
      "[-0.00465393  0.04071045  0.02700806 ...  0.0017395   0.02641296\n",
      " -0.04760742]\n"
     ]
    }
   ],
   "execution_count": 261
  },
  {
   "metadata": {
    "ExecuteTime": {
     "end_time": "2025-02-01T08:15:41.139666Z",
     "start_time": "2025-02-01T08:15:39.357611Z"
    }
   },
   "cell_type": "code",
   "source": [
    "from langchain_community.document_loaders import PyPDFLoader\n",
    "loader = PyPDFLoader(\"/Users/pookie/PycharmProjects/AI_agent/AI_agents /Astro-economics.pdf\")\n",
    "docs1 = loader.load()\n",
    "documents1= RecursiveCharacterTextSplitter(chunk_size=1000, chunk_overlap=200)\n",
    "documents1 = documents1.split_documents(docs1)\n",
    "len(documents1)"
   ],
   "id": "70314822601032d7",
   "outputs": [
    {
     "data": {
      "text/plain": [
       "186"
      ]
     },
     "execution_count": 262,
     "metadata": {},
     "output_type": "execute_result"
    }
   ],
   "execution_count": 262
  },
  {
   "metadata": {
    "ExecuteTime": {
     "end_time": "2025-02-01T08:15:47.678645Z",
     "start_time": "2025-02-01T08:15:43.898570Z"
    }
   },
   "cell_type": "code",
   "source": [
    "#there is a lot of chunks in documents1 so we will only consider first 15 for simplicity\n",
    "vectordb = FAISS.from_documents(documents1[:15], embedding= embeddings)\n",
    "pdf_retriever = vectordb.as_retriever()"
   ],
   "id": "24195bc24cf97992",
   "outputs": [],
   "execution_count": 263
  },
  {
   "metadata": {
    "ExecuteTime": {
     "end_time": "2025-02-01T08:15:49.010603Z",
     "start_time": "2025-02-01T08:15:49.007465Z"
    }
   },
   "cell_type": "code",
   "source": [
    "#Creating a pdf retriever tool\n",
    "pdf_retriever_tool = create_retriever_tool(pdf_retriever,\"Astro_economics\",\"for any query related to astro-economics use this article !\")"
   ],
   "id": "b7632d0525626705",
   "outputs": [],
   "execution_count": 264
  },
  {
   "metadata": {
    "ExecuteTime": {
     "end_time": "2025-02-01T08:15:49.741250Z",
     "start_time": "2025-02-01T08:15:49.738479Z"
    }
   },
   "cell_type": "code",
   "source": [
    "## Arxiv Tool\n",
    "from langchain_community.utilities import ArxivAPIWrapper\n",
    "from langchain_community.tools import ArxivQueryRun\n",
    "\n",
    "#Using Arxiv API to search academic papers from ArXiv\n",
    "arxiv_wrapper=ArxivAPIWrapper(top_k_results=1, doc_content_chars_max=200)\n",
    "#will only give top 1 paper and max_character = 200\n",
    "arxiv=ArxivQueryRun(api_wrapper=arxiv_wrapper)"
   ],
   "id": "813329b3e36438bf",
   "outputs": [],
   "execution_count": 265
  },
  {
   "metadata": {
    "ExecuteTime": {
     "end_time": "2025-02-01T08:15:51.120535Z",
     "start_time": "2025-02-01T08:15:51.118095Z"
    }
   },
   "cell_type": "code",
   "source": "tools=[wiki,arxiv,web_retriever_tool,pdf_retriever_tool]",
   "id": "a1992a84103a5ef1",
   "outputs": [],
   "execution_count": 266
  },
  {
   "metadata": {
    "ExecuteTime": {
     "end_time": "2025-02-01T08:15:52.480681Z",
     "start_time": "2025-02-01T08:15:51.861160Z"
    }
   },
   "cell_type": "code",
   "source": [
    "from langchain import hub\n",
    "#We use the prompts from langchain hub\n",
    "prompt = hub.pull(\"hwchase17/openai-functions-agent\")\n",
    "prompt.messages"
   ],
   "id": "32fd3504bc1244eb",
   "outputs": [
    {
     "data": {
      "text/plain": [
       "[SystemMessagePromptTemplate(prompt=PromptTemplate(input_variables=[], input_types={}, partial_variables={}, template='You are a helpful assistant'), additional_kwargs={}),\n",
       " MessagesPlaceholder(variable_name='chat_history', optional=True),\n",
       " HumanMessagePromptTemplate(prompt=PromptTemplate(input_variables=['input'], input_types={}, partial_variables={}, template='{input}'), additional_kwargs={}),\n",
       " MessagesPlaceholder(variable_name='agent_scratchpad')]"
      ]
     },
     "execution_count": 267,
     "metadata": {},
     "output_type": "execute_result"
    }
   ],
   "execution_count": 267
  },
  {
   "metadata": {
    "ExecuteTime": {
     "end_time": "2025-02-01T08:15:53.682772Z",
     "start_time": "2025-02-01T08:15:53.663965Z"
    }
   },
   "cell_type": "code",
   "source": [
    "from langchain.agents import  create_openai_tools_agent\n",
    "agent= create_openai_tools_agent(Model,tools,prompt)"
   ],
   "id": "5a93100ac75d4827",
   "outputs": [],
   "execution_count": 268
  },
  {
   "metadata": {
    "ExecuteTime": {
     "end_time": "2025-02-01T08:15:54.589249Z",
     "start_time": "2025-02-01T08:15:54.584035Z"
    }
   },
   "cell_type": "code",
   "source": [
    "#Agent Executer\n",
    "from langchain.agents import AgentExecutor\n",
    "agent_executor = AgentExecutor(agent= agent , tools = tools, verbose=True )\n",
    "agent_executor"
   ],
   "id": "a492f2479cf146a7",
   "outputs": [
    {
     "data": {
      "text/plain": [
       "AgentExecutor(verbose=True, agent=RunnableMultiActionAgent(runnable=RunnableAssign(mapper={\n",
       "  agent_scratchpad: RunnableLambda(lambda x: format_to_openai_tool_messages(x['intermediate_steps']))\n",
       "})\n",
       "| ChatPromptTemplate(input_variables=['agent_scratchpad', 'input'], optional_variables=['chat_history'], input_types={'chat_history': list[typing.Annotated[typing.Union[typing.Annotated[langchain_core.messages.ai.AIMessage, Tag(tag='ai')], typing.Annotated[langchain_core.messages.human.HumanMessage, Tag(tag='human')], typing.Annotated[langchain_core.messages.chat.ChatMessage, Tag(tag='chat')], typing.Annotated[langchain_core.messages.system.SystemMessage, Tag(tag='system')], typing.Annotated[langchain_core.messages.function.FunctionMessage, Tag(tag='function')], typing.Annotated[langchain_core.messages.tool.ToolMessage, Tag(tag='tool')], typing.Annotated[langchain_core.messages.ai.AIMessageChunk, Tag(tag='AIMessageChunk')], typing.Annotated[langchain_core.messages.human.HumanMessageChunk, Tag(tag='HumanMessageChunk')], typing.Annotated[langchain_core.messages.chat.ChatMessageChunk, Tag(tag='ChatMessageChunk')], typing.Annotated[langchain_core.messages.system.SystemMessageChunk, Tag(tag='SystemMessageChunk')], typing.Annotated[langchain_core.messages.function.FunctionMessageChunk, Tag(tag='FunctionMessageChunk')], typing.Annotated[langchain_core.messages.tool.ToolMessageChunk, Tag(tag='ToolMessageChunk')]], FieldInfo(annotation=NoneType, required=True, discriminator=Discriminator(discriminator=<function _get_type at 0x1096fb600>, custom_error_type=None, custom_error_message=None, custom_error_context=None))]], 'agent_scratchpad': list[typing.Annotated[typing.Union[typing.Annotated[langchain_core.messages.ai.AIMessage, Tag(tag='ai')], typing.Annotated[langchain_core.messages.human.HumanMessage, Tag(tag='human')], typing.Annotated[langchain_core.messages.chat.ChatMessage, Tag(tag='chat')], typing.Annotated[langchain_core.messages.system.SystemMessage, Tag(tag='system')], typing.Annotated[langchain_core.messages.function.FunctionMessage, Tag(tag='function')], typing.Annotated[langchain_core.messages.tool.ToolMessage, Tag(tag='tool')], typing.Annotated[langchain_core.messages.ai.AIMessageChunk, Tag(tag='AIMessageChunk')], typing.Annotated[langchain_core.messages.human.HumanMessageChunk, Tag(tag='HumanMessageChunk')], typing.Annotated[langchain_core.messages.chat.ChatMessageChunk, Tag(tag='ChatMessageChunk')], typing.Annotated[langchain_core.messages.system.SystemMessageChunk, Tag(tag='SystemMessageChunk')], typing.Annotated[langchain_core.messages.function.FunctionMessageChunk, Tag(tag='FunctionMessageChunk')], typing.Annotated[langchain_core.messages.tool.ToolMessageChunk, Tag(tag='ToolMessageChunk')]], FieldInfo(annotation=NoneType, required=True, discriminator=Discriminator(discriminator=<function _get_type at 0x1096fb600>, custom_error_type=None, custom_error_message=None, custom_error_context=None))]]}, partial_variables={'chat_history': []}, metadata={'lc_hub_owner': 'hwchase17', 'lc_hub_repo': 'openai-functions-agent', 'lc_hub_commit_hash': 'a1655024b06afbd95d17449f21316291e0726f13dcfaf990cc0d18087ad689a5'}, messages=[SystemMessagePromptTemplate(prompt=PromptTemplate(input_variables=[], input_types={}, partial_variables={}, template='You are a helpful assistant'), additional_kwargs={}), MessagesPlaceholder(variable_name='chat_history', optional=True), HumanMessagePromptTemplate(prompt=PromptTemplate(input_variables=['input'], input_types={}, partial_variables={}, template='{input}'), additional_kwargs={}), MessagesPlaceholder(variable_name='agent_scratchpad')])\n",
       "| RunnableBinding(bound=ChatMistralAI(client=<httpx.Client object at 0x10dda2210>, async_client=<httpx.AsyncClient object at 0x10f14b290>, mistral_api_key=SecretStr('**********'), endpoint='https://api.mistral.ai/v1', model='mistral-large-latest'), kwargs={'tools': [{'type': 'function', 'function': {'name': 'wikipedia', 'description': 'A wrapper around Wikipedia. Useful for when you need to answer general questions about people, places, companies, facts, historical events, or other subjects. Input should be a search query.', 'parameters': {'properties': {'query': {'description': 'query to look up on wikipedia', 'type': 'string'}}, 'required': ['query'], 'type': 'object'}}}, {'type': 'function', 'function': {'name': 'arxiv', 'description': 'A wrapper around Arxiv.org Useful for when you need to answer questions about Physics, Mathematics, Computer Science, Quantitative Biology, Quantitative Finance, Statistics, Electrical Engineering, and Economics from scientific articles on arxiv.org. Input should be a search query.', 'parameters': {'properties': {'query': {'description': 'search query to look up', 'type': 'string'}}, 'required': ['query'], 'type': 'object'}}}, {'type': 'function', 'function': {'name': 'Mining_Article', 'description': 'For any queries regarding Mining use this article !', 'parameters': {'properties': {'query': {'description': 'query to look up in retriever', 'type': 'string'}}, 'required': ['query'], 'type': 'object'}}}, {'type': 'function', 'function': {'name': 'Astro_economics', 'description': 'for any query related to astro-economics use this article !', 'parameters': {'properties': {'query': {'description': 'query to look up in retriever', 'type': 'string'}}, 'required': ['query'], 'type': 'object'}}}]}, config={}, config_factories=[])\n",
       "| OpenAIToolsAgentOutputParser(), input_keys_arg=[], return_keys_arg=[], stream_runnable=True), tools=[WikipediaQueryRun(api_wrapper=WikipediaAPIWrapper(wiki_client=<module 'wikipedia' from '/Users/pookie/PycharmProjects/AI_agent/.venv/lib/python3.13/site-packages/wikipedia/__init__.py'>, top_k_results=1, lang='en', load_all_available_meta=False, doc_content_chars_max=200)), ArxivQueryRun(api_wrapper=ArxivAPIWrapper(arxiv_search=<class 'arxiv.Search'>, arxiv_exceptions=(<class 'arxiv.ArxivError'>, <class 'arxiv.UnexpectedEmptyPageError'>, <class 'arxiv.HTTPError'>), top_k_results=1, ARXIV_MAX_QUERY_LENGTH=300, continue_on_failure=False, load_max_docs=100, load_all_available_meta=False, doc_content_chars_max=200)), Tool(name='Mining_Article', description='For any queries regarding Mining use this article !', args_schema=<class 'langchain_core.tools.retriever.RetrieverInput'>, func=functools.partial(<function _get_relevant_documents at 0x109b83420>, retriever=VectorStoreRetriever(tags=['FAISS', 'MistralAIEmbeddings'], vectorstore=<langchain_community.vectorstores.faiss.FAISS object at 0x1106b1b50>, search_kwargs={}), document_prompt=PromptTemplate(input_variables=['page_content'], input_types={}, partial_variables={}, template='{page_content}'), document_separator='\\n\\n', response_format='content'), coroutine=functools.partial(<function _aget_relevant_documents at 0x109f3cb80>, retriever=VectorStoreRetriever(tags=['FAISS', 'MistralAIEmbeddings'], vectorstore=<langchain_community.vectorstores.faiss.FAISS object at 0x1106b1b50>, search_kwargs={}), document_prompt=PromptTemplate(input_variables=['page_content'], input_types={}, partial_variables={}, template='{page_content}'), document_separator='\\n\\n', response_format='content')), Tool(name='Astro_economics', description='for any query related to astro-economics use this article !', args_schema=<class 'langchain_core.tools.retriever.RetrieverInput'>, func=functools.partial(<function _get_relevant_documents at 0x109b83420>, retriever=VectorStoreRetriever(tags=['FAISS', 'MistralAIEmbeddings'], vectorstore=<langchain_community.vectorstores.faiss.FAISS object at 0x10f067850>, search_kwargs={}), document_prompt=PromptTemplate(input_variables=['page_content'], input_types={}, partial_variables={}, template='{page_content}'), document_separator='\\n\\n', response_format='content'), coroutine=functools.partial(<function _aget_relevant_documents at 0x109f3cb80>, retriever=VectorStoreRetriever(tags=['FAISS', 'MistralAIEmbeddings'], vectorstore=<langchain_community.vectorstores.faiss.FAISS object at 0x10f067850>, search_kwargs={}), document_prompt=PromptTemplate(input_variables=['page_content'], input_types={}, partial_variables={}, template='{page_content}'), document_separator='\\n\\n', response_format='content'))])"
      ]
     },
     "execution_count": 269,
     "metadata": {},
     "output_type": "execute_result"
    }
   ],
   "execution_count": 269
  },
  {
   "metadata": {
    "ExecuteTime": {
     "end_time": "2025-02-01T08:16:02.970724Z",
     "start_time": "2025-02-01T08:15:56.138758Z"
    }
   },
   "cell_type": "code",
   "source": "agent_executor.invoke({\"input\":\"Who has written the article on Astro-economics? \"})",
   "id": "7ebf95c138928067",
   "outputs": [
    {
     "name": "stdout",
     "output_type": "stream",
     "text": [
      "\n",
      "\n",
      "\u001B[1m> Entering new AgentExecutor chain...\u001B[0m\n",
      "\u001B[32;1m\u001B[1;3m\n",
      "Invoking: `Astro_economics` with `{'query': 'Author of the article'}`\n",
      "\n",
      "\n",
      "\u001B[0m\u001B[36;1m\u001B[1;3mSee discussions, stats, and author profiles for this publication at: https://www.researchgate.net/publication/381574882\n",
      "ASTRO-ECONOMICS: UNRAVELING THE FINANCIAL DIMENSIONS OF SPACE\n",
      "ENDEAVORS\n",
      "Article · June 2024\n",
      "CITATIONS\n",
      "0\n",
      "READS\n",
      "281\n",
      "5 authors, including:\n",
      "Bhushan Satish Deshmane\n",
      "Indian Institute of Technology Kharagpur\n",
      "1 PUBLICATION   0 CITATIONS   \n",
      "SEE PROFILE\n",
      "Animesh Raj\n",
      "Indian Institute of Technology Kharagpur\n",
      "1 PUBLICATION   0 CITATIONS   \n",
      "SEE PROFILE\n",
      "Annu Chaurasiya\n",
      "Indian Institute of Technology Kharagpur\n",
      "1 PUBLICATION   0 CITATIONS   \n",
      "SEE PROFILE\n",
      "Dakshita Pokharna\n",
      "Indian Institute of Technology Kharagpur\n",
      "1 PUBLICATION   0 CITATIONS   \n",
      "SEE PROFILE\n",
      "All content following this page was uploaded by Heramb Warke on 20 June 2024.\n",
      "The user has requested enhancement of the downloaded file.\n",
      "\n",
      "and identify pollution transfers between \n",
      "different environmental impacts or life-cycle \n",
      "stages. This makes LCA useful for \"design for \n",
      "the environment\" approaches and as a \n",
      "decision-making support tool. Figure 1 \n",
      "illustrates the main principles and concepts \n",
      "of LCA. \n",
      " \n",
      "Figure - 1  \n",
      "[\\Integrating sustainability in the design of space \n",
      "activities: development of eco -design tools for \n",
      "space projects Augustin Chanoine BIO by \n",
      "Deloitte Senior Manager 185 avenue Charles de \n",
      "Gaulle, 92200 Neuilly -sur-Seine, France \n",
      "achanoine@bio.deloitte.fr Yann ick Le Guern \n",
      "(BIO by Deloitte), François Witte (BIO by \n",
      "Deloitte), Jakob Huesing (Rhea for European \n",
      "Space Agency), Tiago Soares (European Space \n",
      "Agency), Luisa Innocenti (European Space \n",
      "Agency) \n",
      "CEAS 2015 paper no. 145 Page | 1 This work is \n",
      "licensed under the Creative Commons \n",
      "Attribution International License (CC BY). \n",
      "Copyright © 2015 by author(s)] \n",
      " \n",
      "1.1.2 Data collection and data quality \n",
      " \n",
      "An important data collection process helped\n",
      "\n",
      "Attribution International License (CC BY). \n",
      "Copyright © 2015 by author(s)] \n",
      " \n",
      "1.1.2 Data collection and data quality \n",
      " \n",
      "An important data collection process helped \n",
      "gather environmental data for the entire life \n",
      "cycle of space missions: \n",
      "❖ Knowledge about space missions and \n",
      "their design was collected by attending a \n",
      "CDF design session to understand the \n",
      "space mission design process. \n",
      "❖ Extensive data collection was done with \n",
      "manufacturers of launchers and \n",
      "spacecraft. \n",
      "❖ Over 10 experts were interviewed about \n",
      "different aspects, including: \n",
      "❖ Communication subsystem, \n",
      "❖ Thermal subsystem, \n",
      "❖ Solar arrays, \n",
      "❖ Batteries, \n",
      "❖ Chemical propulsion, \n",
      "❖ Electric propulsion, \n",
      "❖ Electronics, \n",
      "❖ Ground segment, \n",
      "❖ Testing activities. \n",
      " \n",
      "More than 40 environmental Life Cycle \n",
      "Inventory datasets (LCIs) representing space \n",
      "activities were created during the project. \n",
      " \n",
      "1.2  Eco Design of Space missions  \n",
      " \n",
      "Introduction: \n",
      "Eco-design of space missions involves the\n",
      "\n",
      "Manuscript compile on June 19,2024  \n",
      " \n",
      "OVERVIEW \n",
      " \n",
      "Our research paper on astro economics takes you on an exciting journey through the economic \n",
      "potential of space exploration. We uncover how celestial resources and space missions can \n",
      "revolutionize global markets and spark technological innovations. Dive into our analysis of\u001B[0m\u001B[32;1m\u001B[1;3mThe article on astro-economics has been authored by Bhushan Satish Deshmane, Animesh Raj, Annu Chaurasiya, and Dakshita Pokharna all from the Indian Institute of Technology Kharagpur. For more details, you can visit the publication at [ResearchGate](https://www.researchgate.net/publication/381574882).\u001B[0m\n",
      "\n",
      "\u001B[1m> Finished chain.\u001B[0m\n"
     ]
    },
    {
     "data": {
      "text/plain": [
       "{'input': 'Who has written the article on Astro-economics? ',\n",
       " 'output': 'The article on astro-economics has been authored by Bhushan Satish Deshmane, Animesh Raj, Annu Chaurasiya, and Dakshita Pokharna all from the Indian Institute of Technology Kharagpur. For more details, you can visit the publication at [ResearchGate](https://www.researchgate.net/publication/381574882).'}"
      ]
     },
     "execution_count": 270,
     "metadata": {},
     "output_type": "execute_result"
    }
   ],
   "execution_count": 270
  },
  {
   "metadata": {
    "ExecuteTime": {
     "end_time": "2025-02-01T08:14:11.493568Z",
     "start_time": "2025-02-01T08:14:02.460018Z"
    }
   },
   "cell_type": "code",
   "source": "agent_executor.invoke({\"input\":\"Mining creates a type of water pollution known as?\"})",
   "id": "c216a805576a2cc9",
   "outputs": [
    {
     "name": "stdout",
     "output_type": "stream",
     "text": [
      "\n",
      "\n",
      "\u001B[1m> Entering new AgentExecutor chain...\u001B[0m\n",
      "\u001B[32;1m\u001B[1;3m\n",
      "Invoking: `Mining_Article` with `{'query': 'Mining creates a type of water pollution known as?'}`\n",
      "\n",
      "\n",
      "\u001B[0m\u001B[38;5;200m\u001B[1;3mdiseases that cause breathing impairment and can be fatal.The mining process can also harm the environment in other ways. Mining creates a type of water pollution known as acid mine drainage. First, mining exposes sulfides in the soil. When the rainwater or streams dissolves the sulfides, they form acids. This acidic water damages aquatic plants and animals. Along with acid mine drainage, the disposal of mine waste can also cause severe water pollution from toxic metals. The toxic metals commonly found in mine waste, such as arsenic and mercury, are harmful to the health of people and wildlife if they are released into nearby streams.CreditsMedia CreditsThe audio, illustrations, photos, and videos are credited beneath the media asset, except for promotional images, which generally link to another page that contains the media credit. The Rights Holder for media is the person or group credited.DirectorTyson Brown, National Geographic SocietyAuthorNational Geographic SocietyProduction\n",
      "\n",
      "is blasted so that ores near Earth’s surface can be removed and carried to refineries to extract the minerals. Surface mining can be destructive to the surrounding landscape, leaving huge open pits behind. In underground mining, ores are removed from deep within the earth. Miners blast tunnels into the rock to reach the ore deposits. This process can lead to accidents that trap miners underground.Along with accidents, a career in mining can also be dangerous since it can lead to health problems. Breathing in dust particles produced by mining can lead to lung disease. One of the most common forms is black lung disease, which is caused when coal miners breathe in coal dust. Many other types of mining produce silica dust, which causes a disease similar to black lung disease. These are incurable diseases that cause breathing impairment and can be fatal.The mining process can also harm the environment in other ways. Mining creates a type of water pollution known as acid mine drainage.\n",
      "\n",
      "MiningEducationSign InMenuDonateENCYCLOPEDIC ENTRYENCYCLOPEDIC ENTRYMiningMiningMining extracts useful materials from the earth. Although mining provides many valuable minerals, it can also harm people and the environment.Grades5 - 8SubjectsAnthropology, Archaeology, Earth Science, GeologyImageOpen-Pit Copper MineThroughout history, minerals, like copper, have been extracted from the earth for human use. It is still mined in places like this open-pit mine outside of Silver City, New Mexico, in the United States.Photograph by Joe Raedle/Getty ImagesPowered byArticleVocabularyMining is the process of extracting useful materials from the earth. Some examples of substances that are mined include coal, gold, or iron ore. Iron ore is the material from which the metal iron is produced.The process of mining dates back to prehistoric times. Prehistoric people first mined flint, which was ideal for tools and weapons since it breaks into shards with sharp edges. The mining of gold and copper also\n",
      "\n",
      "of mining dates back to prehistoric times. Prehistoric people first mined flint, which was ideal for tools and weapons since it breaks into shards with sharp edges. The mining of gold and copper also dates back to prehistoric times.These profitable substances that are mined from the earth are called minerals. A mineral is typically an inorganic substance that has a specific chemical composition and crystal structure. The minerals are valuable in their pure form, but in the earth they are mixed with other, unwanted rocks and minerals. This mix of rock and minerals is usually carried away from the mine together, then later processed and refined to isolate the desired mineral.The two major categories of modern mining include surface mining and underground mining. In surface mining, the ground is blasted so that ores near Earth’s surface can be removed and carried to refineries to extract the minerals. Surface mining can be destructive to the surrounding landscape, leaving huge open pits\u001B[0m\u001B[32;1m\u001B[1;3mMining creates a type of water pollution known as acid mine drainage\u001B[0m\n",
      "\n",
      "\u001B[1m> Finished chain.\u001B[0m\n"
     ]
    },
    {
     "data": {
      "text/plain": [
       "{'input': 'Mining creates a type of water pollution known as?',\n",
       " 'output': 'Mining creates a type of water pollution known as acid mine drainage'}"
      ]
     },
     "execution_count": 243,
     "metadata": {},
     "output_type": "execute_result"
    }
   ],
   "execution_count": 243
  },
  {
   "metadata": {
    "ExecuteTime": {
     "end_time": "2025-02-01T08:17:15.533499Z",
     "start_time": "2025-02-01T08:17:01.150973Z"
    }
   },
   "cell_type": "code",
   "source": "agent_executor.invoke({\"input\":\"find a research paper on Space Tourism\"})",
   "id": "da8963bd9fbfea78",
   "outputs": [
    {
     "name": "stdout",
     "output_type": "stream",
     "text": [
      "\n",
      "\n",
      "\u001B[1m> Entering new AgentExecutor chain...\u001B[0m\n",
      "\u001B[32;1m\u001B[1;3m\n",
      "Invoking: `arxiv` with `{'query': 'Space Tourism'}`\n",
      "\n",
      "\n",
      "\u001B[0m\u001B[33;1m\u001B[1;3mPublished: 2024-06-24\n",
      "Title: A Carrying Capacity Calculator for Pedestrians Using OpenStreetMap Data: Application to Urban Tourism and Public Spaces\n",
      "Authors: Duarte Sampaio de Almeida, Rodrigo Simões,\u001B[0m\u001B[32;1m\u001B[1;3mThe research paper titled \"A Carrying Capacity Calculator for Pedestrians Using OpenStreetMap Data: Application to Urban Tourism and Public Spaces\" was published on June 24, 2024. The authors of this paper are Duarte Sampaio de Almeida and Rodrigo Simões. The paper presents a methodology for calculating the carrying capacity of pedestrian spaces using OpenStreetMap data, with applications in urban tourism and public space management.\u001B[0m\n",
      "\n",
      "\u001B[1m> Finished chain.\u001B[0m\n"
     ]
    },
    {
     "data": {
      "text/plain": [
       "{'input': 'find a research paper on Space Tourism',\n",
       " 'output': 'The research paper titled \"A Carrying Capacity Calculator for Pedestrians Using OpenStreetMap Data: Application to Urban Tourism and Public Spaces\" was published on June 24, 2024. The authors of this paper are Duarte Sampaio de Almeida and Rodrigo Simões. The paper presents a methodology for calculating the carrying capacity of pedestrian spaces using OpenStreetMap data, with applications in urban tourism and public space management.'}"
      ]
     },
     "execution_count": 271,
     "metadata": {},
     "output_type": "execute_result"
    }
   ],
   "execution_count": 271
  }
 ],
 "metadata": {
  "kernelspec": {
   "display_name": "Python 3 (ipykernel)",
   "language": "python",
   "name": "python3"
  },
  "language_info": {
   "codemirror_mode": {
    "name": "ipython",
    "version": 2
   },
   "file_extension": ".py",
   "mimetype": "text/x-python",
   "name": "python",
   "nbconvert_exporter": "python",
   "pygments_lexer": "ipython2",
   "version": "2.7.6"
  }
 },
 "nbformat": 4,
 "nbformat_minor": 5
}
